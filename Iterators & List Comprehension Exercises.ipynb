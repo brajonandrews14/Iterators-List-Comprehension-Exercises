{
 "cells": [
  {
   "cell_type": "markdown",
   "id": "38cedd8e",
   "metadata": {},
   "source": [
    "Exercise 1"
   ]
  },
  {
   "cell_type": "code",
   "execution_count": null,
   "id": "7342d31b",
   "metadata": {},
   "outputs": [],
   "source": [
    "from itertools import product\n",
    "A = input().split()\n",
    "A = list(map(int,A))\n",
    "B = input().split()\n",
    "B = list(map(int, B))\n",
    "result = list(product(A,B))\n",
    "for i in result:\n",
    "    print(i, end = \" \");"
   ]
  },
  {
   "cell_type": "markdown",
   "id": "d770dfd8",
   "metadata": {},
   "source": [
    "Exercise 2"
   ]
  },
  {
   "cell_type": "code",
   "execution_count": null,
   "id": "aadd672a",
   "metadata": {},
   "outputs": [],
   "source": [
    "from itertools import permutations\n",
    "\n",
    "S = input().split()\n",
    "\n",
    "for i in sorted(permutations(S[0], int(S[1]))):\n",
    "    print (''.join(i))"
   ]
  },
  {
   "cell_type": "markdown",
   "id": "b8f6994a",
   "metadata": {},
   "source": [
    "Exercise 3"
   ]
  },
  {
   "cell_type": "code",
   "execution_count": null,
   "id": "93961aa2",
   "metadata": {},
   "outputs": [],
   "source": [
    "from itertools import combinations_with_replacement\n",
    "\n",
    "lis = input().split(' ')\n",
    "\n",
    "for i in combinations_with_replacement(sorted(lis[0]), int(lis[1])):\n",
    "    print (''.join(i))"
   ]
  }
 ],
 "metadata": {
  "kernelspec": {
   "display_name": "Python 3 (ipykernel)",
   "language": "python",
   "name": "python3"
  },
  "language_info": {
   "codemirror_mode": {
    "name": "ipython",
    "version": 3
   },
   "file_extension": ".py",
   "mimetype": "text/x-python",
   "name": "python",
   "nbconvert_exporter": "python",
   "pygments_lexer": "ipython3",
   "version": "3.10.9"
  }
 },
 "nbformat": 4,
 "nbformat_minor": 5
}
